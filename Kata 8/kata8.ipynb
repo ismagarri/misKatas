{
 "cells": [
  {
   "cell_type": "markdown",
   "metadata": {},
   "source": [
    "## Diccionarios"
   ]
  },
  {
   "cell_type": "code",
   "execution_count": 4,
   "metadata": {},
   "outputs": [
    {
     "name": "stdout",
     "output_type": "stream",
     "text": [
      "Marte\n",
      "2\n",
      "Marte , Circunferencia Polar 6752\n"
     ]
    }
   ],
   "source": [
    "planet = {\n",
    "    'Nombre': 'Marte',\n",
    "    'Lunas': 2\n",
    "}\n",
    "\n",
    "print(planet.get(\"Nombre\"))\n",
    "print(planet.get(\"Lunas\"))\n",
    "\n",
    "planet[\"Circunferencia\"] = {\n",
    "    \"polar\": 6752,\n",
    "    \"equatorial\": 6792        \n",
    "}\n",
    "\n",
    "print(f\"\"\"{planet.get(\"Nombre\")} , Circunferencia Polar {planet[\"Circunferencia\"][\"polar\"]}\"\"\")"
   ]
  },
  {
   "cell_type": "code",
   "execution_count": 7,
   "metadata": {},
   "outputs": [
    {
     "name": "stdout",
     "output_type": "stream",
     "text": [
      "Numero de lunas: 214\n",
      "Promedio de lunas: 17.833333333333332\n"
     ]
    }
   ],
   "source": [
    "planet_moons = {\n",
    "    'mercury': 0,\n",
    "    'venus': 0,\n",
    "    'earth': 1,\n",
    "    'mars': 2,\n",
    "    'jupiter': 79,\n",
    "    'saturn': 82,\n",
    "    'uranus': 27,\n",
    "    'neptune': 14,\n",
    "    'pluto': 5,\n",
    "    'haumea': 2,\n",
    "    'makemake': 1,\n",
    "    'eris': 1\n",
    "}\n",
    "\n",
    "numeroLunas = 0\n",
    "\n",
    "for planeta in planet_moons.keys():\n",
    "    numeroLunas += planet_moons[planeta]\n",
    "\n",
    "print(\"Numero de lunas: \" + str(numeroLunas))\n",
    "print(\"Promedio de lunas: \" + str(numeroLunas / len(planet_moons)))"
   ]
  }
 ],
 "metadata": {
  "interpreter": {
   "hash": "67b6137cb40307b28cada195d59210058395a7a75f18f6405a20b93e0df406be"
  },
  "kernelspec": {
   "display_name": "Python 3.10.2 64-bit",
   "language": "python",
   "name": "python3"
  },
  "language_info": {
   "codemirror_mode": {
    "name": "ipython",
    "version": 3
   },
   "file_extension": ".py",
   "mimetype": "text/x-python",
   "name": "python",
   "nbconvert_exporter": "python",
   "pygments_lexer": "ipython3",
   "version": "3.10.2"
  },
  "orig_nbformat": 4
 },
 "nbformat": 4,
 "nbformat_minor": 2
}
