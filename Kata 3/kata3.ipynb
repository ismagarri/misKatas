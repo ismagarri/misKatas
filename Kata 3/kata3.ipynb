{
 "cells": [
  {
   "cell_type": "code",
   "execution_count": 8,
   "metadata": {},
   "outputs": [
    {
     "name": "stdout",
     "output_type": "stream",
     "text": [
      "Alerta! La velocidad del asteroide Alpha es de 49 km/s\n"
     ]
    }
   ],
   "source": [
    "nombreAsteroide = \"Alpha\"\n",
    "velocidadAsteroide = 49 # en Km/s\n",
    "\n",
    "if velocidadAsteroide > 25:\n",
    "    print(\"Alerta! La velocidad del asteroide \" + nombreAsteroide + \" es de \" + str(velocidadAsteroide) + \" km/s\")\n",
    "else:\n",
    "    print(\"Todo tranquilo. Continue sus actividades diarias.\")"
   ]
  },
  {
   "cell_type": "code",
   "execution_count": 9,
   "metadata": {},
   "outputs": [
    {
     "name": "stdout",
     "output_type": "stream",
     "text": [
      "Todo tranquilo. Continue sus actividades diarias.\n"
     ]
    }
   ],
   "source": [
    "nombreAsteroide = \"Alpha\"\n",
    "velocidadAsteroide = 19 # en Km/s\n",
    "\n",
    "if velocidadAsteroide > 20:\n",
    "    print(\"Asombroso! Mire al cielo para contemplar el rayo de luz del asteroide \" + nombreAsteroide)\n",
    "elif velocidadAsteroide == 20:\n",
    "    print(\"Asombroso! Mire al cielo para contemplar el rayo de luz del asteroide \" + nombreAsteroide)\n",
    "else:\n",
    "    print(\"Todo tranquilo. No hay nada que ver en el cielo por el momento.\")"
   ]
  },
  {
   "cell_type": "code",
   "execution_count": null,
   "metadata": {},
   "outputs": [],
   "source": [
    "nombreAsteroide = \"Alpha\"\n",
    "velocidadAsteroide = 19 # en Km/s\n",
    "tamanioAsteroide = 50 # en Metros\n",
    "\n",
    "if tamanioAsteroide < 25:\n",
    "    print(\"El asteroide \" + nombreAsteroide + \" entró en la atmosfera y se desintegró completamente\")\n",
    "elif tamanioAsteroide >= 25 and tamanioAsteroide < 1000:\n",
    "    print(\"Alerta! El asteroide \" + nombreAsteroide + \" acaba de entrar en la atmósfera y podría provocar mucho daño en el plante. No hay donde esconderse\")\n",
    "elif velocidadAsteroide >= 20:\n",
    "    print(\"Asombroso! Es posible que se produzca un rayo de luz en el cielo, causado por el asteroide \" + nombreAsteroide)\n",
    "    if velocidadAsteroide > 25:\n",
    "       print(\"Alerta! La velocidad del asteroide \" + nombreAsteroide + \" es de \" + str(velocidadAsteroide) + \" km/s\")\n",
    "else:\n",
    "    print(\"Todo tranquilo. No hay nada que ver en el cielo por el momento.\")\n",
    "\n"
   ]
  }
 ],
 "metadata": {
  "interpreter": {
   "hash": "67b6137cb40307b28cada195d59210058395a7a75f18f6405a20b93e0df406be"
  },
  "kernelspec": {
   "display_name": "Python 3.10.2 64-bit",
   "language": "python",
   "name": "python3"
  },
  "language_info": {
   "codemirror_mode": {
    "name": "ipython",
    "version": 3
   },
   "file_extension": ".py",
   "mimetype": "text/x-python",
   "name": "python",
   "nbconvert_exporter": "python",
   "pygments_lexer": "ipython3",
   "version": "3.10.2"
  },
  "orig_nbformat": 4
 },
 "nbformat": 4,
 "nbformat_minor": 2
}
