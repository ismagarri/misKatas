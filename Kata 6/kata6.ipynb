{
 "cells": [
  {
   "cell_type": "markdown",
   "metadata": {},
   "source": [
    "## Listas"
   ]
  },
  {
   "cell_type": "code",
   "execution_count": 6,
   "metadata": {},
   "outputs": [
    {
     "name": "stdout",
     "output_type": "stream",
     "text": [
      "Lista de planetas: ['Mercurio', 'Venus', 'Tierra', 'Marte', 'Júpiter', 'Saturno', 'Urano', 'Neptuno']\n",
      "Número de planetas: 8\n",
      "Último Planeta: Plutón\n",
      "Número de planetas: 9\n"
     ]
    }
   ],
   "source": [
    "planetas = [\"Mercurio\", \"Venus\", \"Tierra\", \"Marte\", \"Júpiter\", \"Saturno\", \"Urano\", \"Neptuno\"]\n",
    "\n",
    "print(\"Lista de planetas: \" + str(planetas))\n",
    "print(\"Número de planetas: \" + str(len(planetas)))\n",
    "\n",
    "planetas.append(\"Plutón\")\n",
    "\n",
    "print(\"Último Planeta: \" + str(planetas[-1]))\n",
    "print(\"Número de planetas: \" + str(len(planetas)))\n",
    "\n"
   ]
  },
  {
   "cell_type": "code",
   "execution_count": 11,
   "metadata": {},
   "outputs": [
    {
     "name": "stdout",
     "output_type": "stream",
     "text": [
      "Lista de planetas más cercanos al sol: ['Mercurio']\n",
      "Lista de planetas más lejanos al sol: ['Venus', 'Tierra', 'Marte', 'Júpiter', 'Saturno', 'Urano', 'Neptuno']\n"
     ]
    }
   ],
   "source": [
    "planetas = [\"Mercurio\", \"Venus\", \"Tierra\", \"Marte\", \"Júpiter\", \"Saturno\", \"Urano\", \"Neptuno\"]\n",
    "planetaEncontrado = False\n",
    "planetaIndice = -1\n",
    "while (planetaEncontrado == False):\n",
    "\n",
    "    nombrePLaneta = input(\"Introduzca el nombre de un planeta, iniciando con mayúscula\")\n",
    "    if (nombrePLaneta in planetas):\n",
    "        planetaIndice = planetas.index(nombrePLaneta)\n",
    "\n",
    "    if planetaIndice != -1:\n",
    "        planetaEncontrado = True\n",
    "    \n",
    "planetasCercanosSol = planetas[0:planetaIndice]\n",
    "planetasLejanosSol = planetas[planetaIndice:]\n",
    "\n",
    "print(\"Lista de planetas más cercanos al sol: \" + str(planetasCercanosSol))\n",
    "print(\"Lista de planetas más lejanos al sol: \" + str(planetasLejanosSol))\n",
    "\n",
    "\n",
    "\n",
    "\n"
   ]
  }
 ],
 "metadata": {
  "interpreter": {
   "hash": "67b6137cb40307b28cada195d59210058395a7a75f18f6405a20b93e0df406be"
  },
  "kernelspec": {
   "display_name": "Python 3.10.2 64-bit",
   "language": "python",
   "name": "python3"
  },
  "language_info": {
   "codemirror_mode": {
    "name": "ipython",
    "version": 3
   },
   "file_extension": ".py",
   "mimetype": "text/x-python",
   "name": "python",
   "nbconvert_exporter": "python",
   "pygments_lexer": "ipython3",
   "version": "3.10.2"
  },
  "orig_nbformat": 4
 },
 "nbformat": 4,
 "nbformat_minor": 2
}
