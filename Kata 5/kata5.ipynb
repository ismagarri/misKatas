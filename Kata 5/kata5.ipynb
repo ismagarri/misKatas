{
 "cells": [
  {
   "cell_type": "markdown",
   "metadata": {},
   "source": [
    "## Operadores"
   ]
  },
  {
   "cell_type": "code",
   "execution_count": 4,
   "metadata": {},
   "outputs": [
    {
     "name": "stdout",
     "output_type": "stream",
     "text": [
      "628949330\n",
      "390577533.93\n"
     ]
    }
   ],
   "source": [
    "distanciaTierra = 149597870\n",
    "distanciaJupiter = 778547200\n",
    "\n",
    "distancia = distanciaJupiter - distanciaTierra\n",
    "distanciaEnMillas = distancia * 0.621\n",
    "\n",
    "print(distancia)\n",
    "print(distanciaEnMillas)"
   ]
  },
  {
   "cell_type": "code",
   "execution_count": 8,
   "metadata": {},
   "outputs": [
    {
     "name": "stdout",
     "output_type": "stream",
     "text": [
      "Distancia en Km: 123109808\n",
      "Distancia en Millas: 76451190.768\n"
     ]
    }
   ],
   "source": [
    "# Al intentar parsear un String con . a INT, marca error, por lo que se optó por usar un while y un try esxcept para cachar la conversión y no permitir continuar hasta que el valor sea correcto\n",
    "\n",
    "bValido = False\n",
    "\n",
    "while (bValido == False):\n",
    "    distanciaA = input(\"¿Indique la distancia del sol al planeta A?\")\n",
    "\n",
    "    try:\n",
    "        distanciaA = int(distanciaA)\n",
    "        bValido = True\n",
    "    except:\n",
    "        bValido = False\n",
    "    \n",
    "bValido = False\n",
    "\n",
    "while (bValido == False):\n",
    "    distanciaB = input(\"¿Indique la distancia del sol al planeta B?\")\n",
    "\n",
    "    try:\n",
    "        distanciaB = int(distanciaB)\n",
    "        bValido = True\n",
    "    except:\n",
    "        bValido = False\n",
    "\n",
    "distancia = abs(distanciaA - distanciaB)\n",
    "distanciaEnMillas = distancia * 0.621\n",
    "\n",
    "print(f\"\"\"Distancia en Km: {distancia}\"\"\")\n",
    "print(f\"\"\"Distancia en Millas: {distanciaEnMillas}\"\"\")\n"
   ]
  }
 ],
 "metadata": {
  "interpreter": {
   "hash": "67b6137cb40307b28cada195d59210058395a7a75f18f6405a20b93e0df406be"
  },
  "kernelspec": {
   "display_name": "Python 3.10.2 64-bit",
   "language": "python",
   "name": "python3"
  },
  "language_info": {
   "codemirror_mode": {
    "name": "ipython",
    "version": 3
   },
   "file_extension": ".py",
   "mimetype": "text/x-python",
   "name": "python",
   "nbconvert_exporter": "python",
   "pygments_lexer": "ipython3",
   "version": "3.10.2"
  },
  "orig_nbformat": 4
 },
 "nbformat": 4,
 "nbformat_minor": 2
}
