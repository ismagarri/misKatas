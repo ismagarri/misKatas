{
 "cells": [
  {
   "cell_type": "markdown",
   "metadata": {},
   "source": [
    "## Manejo de Cadenas\n"
   ]
  },
  {
   "cell_type": "code",
   "execution_count": 6,
   "metadata": {},
   "outputs": [
    {
     "name": "stdout",
     "output_type": "stream",
     "text": [
      "On average, the Moon moves 4cm away from the Earth every year\n",
      "The highest daylight temperature of the Moon is 127 C.\n",
      "The highest daylight temperature of the Moon is 127 Celsius.\n"
     ]
    }
   ],
   "source": [
    "texto = \"\"\"Interesting facts about the Moon. The Moon is Earth's only satellite. There are several interesting facts about the Moon and how it affects life here on Earth. On average, the Moon moves 4cm away from the Earth every year. This yearly drift is not significant enough to cause immediate effects on Earth. The highest daylight temperature of the Moon is 127 C.\"\"\"\n",
    "\n",
    "# oraciones = texto.split(\"\\n\") - en principio había hecho el split por salto de línea\n",
    "oraciones = texto.split(\". \")\n",
    "\n",
    "hechos = [\"average\",\"temperature\",\"distance\"]\n",
    "\n",
    "# Primer ciclo para imprimir oraciones con hechos\n",
    "for oracion in oraciones:\n",
    "    for hecho in hechos:\n",
    "        if hecho in oracion:\n",
    "            print(oracion)\n",
    "            break\n",
    "\n",
    "# Segundo ciclo para cambiar C por Celsius\n",
    "for oracion in oraciones:\n",
    "    if \" C\" in oracion:\n",
    "        oracion = oracion.replace(\" C\", \" Celsius\")\n",
    "        print (oracion)\n",
    "        break\n",
    "\n"
   ]
  },
  {
   "cell_type": "code",
   "execution_count": 27,
   "metadata": {},
   "outputs": [
    {
     "name": "stdout",
     "output_type": "stream",
     "text": [
      "Gravity Facts About Moon\n",
      "--------------------------------------------------------------------------------\n",
      "Planet Name: Earth\n",
      "Gravity on Earth: 1.6199999999999999 m/s2')\n"
     ]
    }
   ],
   "source": [
    "name = \"Moon\"\n",
    "gravity = 0.00162 # in kms\n",
    "planet = \"Earth\"\n",
    "\n",
    "titulo = f'Gravity Facts about {name}\\n'\n",
    "plantilla = f\"\"\"{'-'*80}\n",
    "Planet Name: {planet.title()}\n",
    "Gravity on {planet.title()}: {gravity * 1000} m/s2')\"\"\"\n",
    "\n",
    "plantillaFinal = f\"\"\"{titulo.title()}{plantilla}\"\"\"\n",
    "print(plantillaFinal)\n",
    "\n"
   ]
  },
  {
   "cell_type": "code",
   "execution_count": 34,
   "metadata": {},
   "outputs": [],
   "source": [
    "# Nuevos datos muestra\n",
    "planet = 'Marte '\n",
    "gravity  = 0.00143\n",
    "name = 'Ganímedes'\n"
   ]
  },
  {
   "cell_type": "code",
   "execution_count": 31,
   "metadata": {},
   "outputs": [
    {
     "name": "stdout",
     "output_type": "stream",
     "text": [
      "Gravity Facts About Moon\n",
      "--------------------------------------------------------------------------------\n",
      "Planet Name: Earth\n",
      "Gravity on Earth: 1.6199999999999999 m/s2')\n"
     ]
    }
   ],
   "source": [
    "# Comprobamos la plantilla\n",
    "print(plantillaFinal)"
   ]
  },
  {
   "cell_type": "code",
   "execution_count": 35,
   "metadata": {},
   "outputs": [
    {
     "name": "stdout",
     "output_type": "stream",
     "text": [
      "\n",
      "Gravity Facts about: Ganímedes\n",
      "-------------------------------------------------------------------------------\n",
      "Planet Name: Marte \n",
      "Gravity on Ganímedes: 0.00143 m/s2\n",
      "\n"
     ]
    }
   ],
   "source": [
    "plantillaFinal = \"\"\"\n",
    "Gravity Facts about: {nombre}\n",
    "-------------------------------------------------------------------------------\n",
    "Planet Name: {planeta}\n",
    "Gravity on {nombre}: {gravedad} m/s2\n",
    "\"\"\"\n",
    "print(plantillaFinal.format(nombre=name, planeta=planet, gravedad=gravity))"
   ]
  },
  {
   "cell_type": "code",
   "execution_count": 36,
   "metadata": {},
   "outputs": [
    {
     "name": "stdout",
     "output_type": "stream",
     "text": [
      "\n",
      "Gravity Facts about: Ganímedes\n",
      "-------------------------------------------------------------------------------\n",
      "Planet Name: Marte \n",
      "Gravity on Ganímedes: 1.4300000000000002 m/s2\n",
      "\n"
     ]
    }
   ],
   "source": [
    "# Pista: print(nueva_plantilla.format(variables))\n",
    "print(plantillaFinal.format(nombre=name, planeta=planet, gravedad=gravity*1000))"
   ]
  }
 ],
 "metadata": {
  "interpreter": {
   "hash": "67b6137cb40307b28cada195d59210058395a7a75f18f6405a20b93e0df406be"
  },
  "kernelspec": {
   "display_name": "Python 3.10.2 64-bit",
   "language": "python",
   "name": "python3"
  },
  "language_info": {
   "codemirror_mode": {
    "name": "ipython",
    "version": 3
   },
   "file_extension": ".py",
   "mimetype": "text/x-python",
   "name": "python",
   "nbconvert_exporter": "python",
   "pygments_lexer": "ipython3",
   "version": "3.10.2"
  },
  "orig_nbformat": 4
 },
 "nbformat": 4,
 "nbformat_minor": 2
}
