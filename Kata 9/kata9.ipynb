{
 "cells": [
  {
   "cell_type": "markdown",
   "metadata": {},
   "source": [
    "## Funciones"
   ]
  },
  {
   "cell_type": "code",
   "execution_count": 5,
   "metadata": {},
   "outputs": [
    {
     "name": "stdout",
     "output_type": "stream",
     "text": [
      "2.0\n"
     ]
    }
   ],
   "source": [
    "def lecturaTanques(tanque1, tanque2, tanque3):\n",
    "    totalTanques = tanque1 + tanque2 + tanque3\n",
    "\n",
    "    return (promedio(totalTanques , 3))\n",
    "\n",
    "def promedio(valor1, valor2):\n",
    "    return (valor1 / valor2)\n",
    "\n",
    "promedioTanque = lecturaTanques(1,2,3)\n",
    "\n",
    "print (promedioTanque)\n"
   ]
  },
  {
   "cell_type": "code",
   "execution_count": 4,
   "metadata": {},
   "outputs": [
    {
     "name": "stdout",
     "output_type": "stream",
     "text": [
      "\n",
      "    Mission to Moon\n",
      "    Total travel time: 65 minutes\n",
      "    Total fuel left: 500000 gallons\n",
      "    \n"
     ]
    }
   ],
   "source": [
    "def informeMision(horaPreLanzamiento, tiempoVuelo, destino, tanqueExterno, tanqueInterno):\n",
    "    return f\"\"\"\n",
    "    Mission to {destino}\n",
    "    Total travel time: {horaPreLanzamiento + tiempoVuelo} minutes\n",
    "    Total fuel left: {tanqueExterno + tanqueInterno} gallons\n",
    "    \"\"\"\n",
    "\n",
    "print(informeMision(14, 51, \"Moon\", 200000, 300000))"
   ]
  },
  {
   "cell_type": "code",
   "execution_count": 10,
   "metadata": {},
   "outputs": [
    {
     "name": "stdout",
     "output_type": "stream",
     "text": [
      "\n",
      "    Mision a Moon\n",
      "    Total Horas Vuelo: 76 minutos\n",
      "    Total ReservaFuel: 500000\n",
      "    main tank --> 300000 gallons left\n",
      "external tank --> 200000 gallons left\n",
      "\n"
     ]
    }
   ],
   "source": [
    "def informeMision(destino, *minutos, **reservaFuel):\n",
    "    reporte = f\"\"\"\n",
    "    Mision a {destino}\n",
    "    Total Horas Vuelo: {sum(minutos)} minutos\n",
    "    Total ReservaFuel: {sum(reservaFuel.values())}\n",
    "    \"\"\"\n",
    "\n",
    "    for tank_name, gallons in reservaFuel.items():\n",
    "        reporte += f\"{tank_name} tank --> {gallons} gallons left\\n\"\n",
    "    \n",
    "    return reporte\n",
    "\n",
    "print(informeMision(\"Moon\", 10, 15, 51, main=300000, external=200000))\n",
    "\n"
   ]
  }
 ],
 "metadata": {
  "interpreter": {
   "hash": "67b6137cb40307b28cada195d59210058395a7a75f18f6405a20b93e0df406be"
  },
  "kernelspec": {
   "display_name": "Python 3.10.2 64-bit",
   "language": "python",
   "name": "python3"
  },
  "language_info": {
   "codemirror_mode": {
    "name": "ipython",
    "version": 3
   },
   "file_extension": ".py",
   "mimetype": "text/x-python",
   "name": "python",
   "nbconvert_exporter": "python",
   "pygments_lexer": "ipython3",
   "version": "3.10.2"
  },
  "orig_nbformat": 4
 },
 "nbformat": 4,
 "nbformat_minor": 2
}
