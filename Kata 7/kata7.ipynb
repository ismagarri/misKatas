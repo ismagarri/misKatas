{
 "cells": [
  {
   "cell_type": "markdown",
   "metadata": {},
   "source": [
    "## Control de flujos"
   ]
  },
  {
   "cell_type": "code",
   "execution_count": 4,
   "metadata": {},
   "outputs": [
    {
     "name": "stdout",
     "output_type": "stream",
     "text": [
      "Los planetas capturados fueron: ['Martes']\n"
     ]
    }
   ],
   "source": [
    "new_planet = \"\"\n",
    "planets = []\n",
    "\n",
    "while new_planet != \"Done\":\n",
    "    new_planet = input(\"Introduzca el nombre de un planeta o escriba 'Done' para finalizar el proceso\").capitalize()\n",
    "    if (new_planet in planets):\n",
    "        new_planet=\"\"\n",
    "    else:\n",
    "        if (new_planet != \"Done\"):\n",
    "            planets.append(new_planet)\n",
    "\n",
    "print(\"Los planetas capturados fueron: \" + str(planets))\n"
   ]
  },
  {
   "cell_type": "code",
   "execution_count": 5,
   "metadata": {},
   "outputs": [
    {
     "name": "stdout",
     "output_type": "stream",
     "text": [
      "Martes\n"
     ]
    }
   ],
   "source": [
    "for planeta in planets:\n",
    "    print (planeta)"
   ]
  }
 ],
 "metadata": {
  "interpreter": {
   "hash": "67b6137cb40307b28cada195d59210058395a7a75f18f6405a20b93e0df406be"
  },
  "kernelspec": {
   "display_name": "Python 3.10.2 64-bit",
   "language": "python",
   "name": "python3"
  },
  "language_info": {
   "codemirror_mode": {
    "name": "ipython",
    "version": 3
   },
   "file_extension": ".py",
   "mimetype": "text/x-python",
   "name": "python",
   "nbconvert_exporter": "python",
   "pygments_lexer": "ipython3",
   "version": "3.10.2"
  },
  "orig_nbformat": 4
 },
 "nbformat": 4,
 "nbformat_minor": 2
}
